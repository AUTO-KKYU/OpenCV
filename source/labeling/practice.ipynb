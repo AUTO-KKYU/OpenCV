{
 "cells": [
  {
   "cell_type": "code",
   "execution_count": 2,
   "metadata": {},
   "outputs": [],
   "source": [
    "import numpy as np \n",
    "import matplotlib.pyplot as plt \n",
    "from PIL import Image \n",
    "import cv2 \n"
   ]
  },
  {
   "cell_type": "code",
   "execution_count": 7,
   "metadata": {},
   "outputs": [],
   "source": [
    "img = cv2.imread('/home/kkyu/amr_ws/opencv/data/cat.jpg')\n",
    "fix_img = cv2.cvtColor(img, cv2.COLOR_BGR2RGB)\n",
    "\n",
    "cv2.rectangle(fix_img, pt1 = (150,50), pt2 = (350,300), color=(255,0,0), thickness=8)\n",
    "\n",
    "font = cv2.FONT_HERSHEY_SIMPLEX\n",
    "cv2.putText(fix_img, text = '(150,50)', org = (40,50),\n",
    "            fontFace=font, fontScale=0.8, color = (0,0,0),\n",
    "            thickness=2, lineType=cv2.LINE_AA) # LINE_AA : antialiased line\n",
    "\n",
    "cv2.putText(fix_img, text = '(350,300)', org = (350,300),\n",
    "            fontFace=font, fontScale=0.8, color = (0,0,0),\n",
    "            thickness=2, lineType=cv2.LINE_AA)\n",
    "\n",
    "cv2.imshow('original', img)\n",
    "cv2.imshow('fix_img', fix_img)\n",
    "\n",
    "cv2.waitKey()\n",
    "cv2.destroyAllWindows()"
   ]
  }
 ],
 "metadata": {
  "kernelspec": {
   "display_name": "opencv",
   "language": "python",
   "name": "python3"
  },
  "language_info": {
   "codemirror_mode": {
    "name": "ipython",
    "version": 3
   },
   "file_extension": ".py",
   "mimetype": "text/x-python",
   "name": "python",
   "nbconvert_exporter": "python",
   "pygments_lexer": "ipython3",
   "version": "3.10.12"
  }
 },
 "nbformat": 4,
 "nbformat_minor": 2
}
