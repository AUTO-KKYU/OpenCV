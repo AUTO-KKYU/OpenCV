{
 "cells": [
  {
   "cell_type": "markdown",
   "metadata": {},
   "source": [
    "### labeling\n",
    "\n",
    "- 객체 구역을 영역 단위로 분석하는 것\n",
    "- 서로 연결되어 있는 객체 픽셀에 고유한 번호를 지정하는 작업 \n",
    "- labeling function -> cv2.connectedComponentsWithStats : 객체 정보를 함께 반환\n",
    "\n",
    "\n"
   ]
  },
  {
   "cell_type": "markdown",
   "metadata": {},
   "source": [
    "### 특정 색상 영역 추출\n",
    "- HSV 사용하는 것이 좋다\n",
    "    - RGB는 어두운 사진에서 색상 영역 추출하면 잘 안됨\n",
    "    - HSV는 H,S로 색상을 조절하고 V는 밝기를 조절하므로 H와 S 범위만 지정해 준다면 어두운 영상에서도 색상 영역 추출 가능"
   ]
  },
  {
   "cell_type": "markdown",
   "metadata": {},
   "source": [
    "### cv2.inRange(src, lowerb, upperb, dst=None) -> dst\n",
    "\n",
    "-  src: 입력 행렬\n",
    "- lowerb: 하한 값 행렬 또는 스칼라\n",
    "- upperb: 상한 값 행렬 또는 스칼라\n",
    "- dst: 입력 영상과 같은 크기의 마스크 영상. (numpy.uint8) 범위 안에 들어가는 픽셀은 255, 나머지는 0으로 설정"
   ]
  },
  {
   "cell_type": "markdown",
   "metadata": {},
   "source": [
    "### cv2.connectedComponentsWithStats(image, labels = None, stats = None, centroids = None, connectivity = None, ltype = None)\n",
    "\n",
    "- image : 8 bit 1 channel\n",
    "- labels : label map 형성, 입력 영상과 같은 크기\n",
    "- stats : 각 객체의 바운딩 박스, 픽셀 개수 정보를 담은 행렬\n",
    "- connectivity : 픽셀 연결 관계 \n",
    "- centroids : 각 객체의 무게 중심 위치 정보를 담은 행렬\n",
    "- ltype : labels 행렬 타입"
   ]
  },
  {
   "cell_type": "code",
   "execution_count": 2,
   "metadata": {},
   "outputs": [],
   "source": [
    "import cv2\n",
    "import numpy as np\n",
    "\n",
    "img = cv2.imread('/home/kkyu/amr_ws/opencv/data/road.jpg', cv2.IMREAD_COLOR)\n",
    "img = cv2.resize(img, (600, 480))\n",
    "\n",
    "# ROI 설정\n",
    "ROI = img[250:480, 0:600]\n",
    "HSV = cv2.cvtColor(ROI, cv2.COLOR_BGR2HSV)\n",
    "\n",
    "# 흰색 마스크 생성\n",
    "lower_white = np.array([0, 0, 200], dtype=np.uint8) # 주어진 이미지에서 파란색과 녹색 값이 0이고, 빨간색 값이 200 이상인 픽셀을 흰색으로 표시하도록 정의\n",
    "upper_white = np.array([180, 255, 255], dtype=np.uint8) # 주어진 이미지에서 파란색은 180, 녹색 값이 255이고, 빨간색 값이 255 이상인 픽셀을 흰색으로 표시하도록 정의\n",
    "white_mask = cv2.inRange(HSV, lower_white, upper_white) # 특정 색상 영역 추출\n",
    "\n",
    "# 라벨링 수행\n",
    "num_labels, labels, stats, centroids = cv2.connectedComponentsWithStats(white_mask, connectivity=8)\n",
    "\n",
    "# 라벨별로 색상 지정 (예: 랜덤 색상)\n",
    "label_colors = np.random.randint(0, 255, size=(num_labels, 3), dtype=np.uint8)\n",
    "\n",
    "# 원본 이미지에 라벨 적용\n",
    "labeled_img = np.zeros_like(ROI)\n",
    "for label in range(1, num_labels):\n",
    "    labeled_img[labels == label] = label_colors[label]\n",
    "\n",
    "# 결과 출력\n",
    "cv2.imshow(\"ORIGINAL IMAGE\", ROI)\n",
    "cv2.imshow(\"HSV IMAGE\", white_mask)\n",
    "cv2.imshow(\"Labeled Image\", labeled_img)\n",
    "\n",
    "cv2.waitKey(0)\n",
    "cv2.destroyAllWindows()\n"
   ]
  }
 ],
 "metadata": {
  "kernelspec": {
   "display_name": "opencv",
   "language": "python",
   "name": "python3"
  },
  "language_info": {
   "codemirror_mode": {
    "name": "ipython",
    "version": 3
   },
   "file_extension": ".py",
   "mimetype": "text/x-python",
   "name": "python",
   "nbconvert_exporter": "python",
   "pygments_lexer": "ipython3",
   "version": "3.10.12"
  }
 },
 "nbformat": 4,
 "nbformat_minor": 2
}
