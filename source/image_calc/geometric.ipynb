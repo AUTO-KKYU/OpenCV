{
 "cells": [
  {
   "cell_type": "code",
   "execution_count": 13,
   "metadata": {},
   "outputs": [],
   "source": [
    "\n",
    "import numpy as np \n",
    "import cv2\n",
    "import sys\n",
    "import math"
   ]
  },
  {
   "cell_type": "markdown",
   "metadata": {},
   "source": [
    "#### 이미지가 이동함"
   ]
  },
  {
   "cell_type": "code",
   "execution_count": 10,
   "metadata": {},
   "outputs": [],
   "source": [
    "src = cv2.imread('/home/kkyu/amr_ws/opencv/data/candies.png')\n",
    "\n",
    "# 2x2 행렬 1 0;0 1 , x축방향으로 200, y축방향으로 100 이동\n",
    "aff = np.array([[1,0,200],\n",
    "                [0,1,100]], dtype = np.float32)\n",
    "\n",
    "dst = cv2.warpAffine(src, aff, (0,0))\n",
    "\n",
    "cv2.imshow('src', src)\n",
    "cv2.imshow('dst', dst)\n",
    "\n",
    "cv2.waitKey()\n",
    "cv2.destroyAllWindows()"
   ]
  },
  {
   "cell_type": "markdown",
   "metadata": {},
   "source": [
    "#### 마름모 모양으로 휘어짐"
   ]
  },
  {
   "cell_type": "code",
   "execution_count": 11,
   "metadata": {},
   "outputs": [],
   "source": [
    "src = cv2.imread('/home/kkyu/amr_ws/opencv/data/candies.png')\n",
    "\n",
    "aff = np.array([[1,0.5,0], [0,1,0]], dtype = np.float32)\n",
    "\n",
    "h,w = src.shape[:2]\n",
    "dst = cv2.warpAffine(src, aff, (w + int(h * 0.5), h))\n",
    "\n",
    "\n",
    "cv2.imshow('src', src)\n",
    "cv2.imshow('dst',dst)\n",
    "\n",
    "cv2.waitKey()\n",
    "cv2.destroyAllWindows()\n"
   ]
  },
  {
   "cell_type": "markdown",
   "metadata": {},
   "source": [
    "#### 이미지 회전"
   ]
  },
  {
   "cell_type": "code",
   "execution_count": 14,
   "metadata": {},
   "outputs": [],
   "source": [
    "src = cv2.imread('/home/kkyu/amr_ws/opencv/data/candies.png')\n",
    "\n",
    "rad = 20 * math.pi / 180 \n",
    "aff = np.array([[math.cos(rad), math.sin(rad), 0],\n",
    "                [-math.sin(rad), math.cos(rad), 0]], dtype = np.float32)\n",
    "\n",
    "dst = cv2.warpAffine(src, aff, (0,0))\n",
    "\n",
    "cv2.imshow('src', src)\n",
    "cv2.imshow('dst', dst)\n",
    "\n",
    "cv2.waitKey()\n",
    "cv2.destroyAllWindows()"
   ]
  },
  {
   "cell_type": "markdown",
   "metadata": {},
   "source": [
    "#### 이미지 중앙 회전 기준"
   ]
  },
  {
   "cell_type": "code",
   "execution_count": 15,
   "metadata": {},
   "outputs": [],
   "source": [
    "src = cv2.imread('/home/kkyu/amr_ws/opencv/data/candies.png')\n",
    "\n",
    "cp = (src.shape[1] / 2, src.shape[0] / 2)\n",
    "rot = cv2.getRotationMatrix2D(cp, 20, 1)\n",
    "\n",
    "dst = cv2.warpAffine(src, rot, (0,0))\n",
    "\n",
    "cv2.imshow('src', src)\n",
    "cv2.imshow('dst', dst)\n",
    "\n",
    "cv2.waitKey()\n",
    "cv2.destroyAllWindows()"
   ]
  }
 ],
 "metadata": {
  "kernelspec": {
   "display_name": "opencv",
   "language": "python",
   "name": "python3"
  },
  "language_info": {
   "codemirror_mode": {
    "name": "ipython",
    "version": 3
   },
   "file_extension": ".py",
   "mimetype": "text/x-python",
   "name": "python",
   "nbconvert_exporter": "python",
   "pygments_lexer": "ipython3",
   "version": "3.10.12"
  }
 },
 "nbformat": 4,
 "nbformat_minor": 2
}
