{
 "cells": [
  {
   "cell_type": "code",
   "execution_count": 1,
   "metadata": {},
   "outputs": [],
   "source": [
    "import numpy as np \n",
    "import cv2 "
   ]
  },
  {
   "cell_type": "markdown",
   "metadata": {},
   "source": [
    "< type flag >\n",
    "- cv2.THRESH_BINARY: 픽셀 값이 임계값을 넘으면 value로 지정하고, 넘지 못하면 0으로 지정\n",
    "- cv2.THRESH_BINARY_INV: cv.THRESH_BINARY의 반대\n",
    "- cv2.THRESH_TRUNC: 픽셀 값이 임계값을 넘으면 value로 지정하고, 넘지 못하면 원래 값 유지\n",
    "- cv2.THRESH_TOZERO: 픽셀 값이 임계값을 넘으면 원래 값 유지, 넘지 못하면 0으로 지정\n",
    "- cv2.THRESH_TOZERO_INV: cv2.THRESH_TOZERO의 반대"
   ]
  },
  {
   "cell_type": "code",
   "execution_count": 2,
   "metadata": {},
   "outputs": [
    {
     "name": "stderr",
     "output_type": "stream",
     "text": [
      "qt.qpa.plugin: Could not find the Qt platform plugin \"wayland\" in \"/home/kkyu/venv/opencv/lib/python3.10/site-packages/cv2/qt/plugins\"\n"
     ]
    }
   ],
   "source": [
    "img = cv2.imread('/home/kkyu/amr_ws/opencv/data/cat.bmp')\n",
    "\n",
    "ret, thr1 = cv2.threshold(img, 127, 255, cv2.THRESH_BINARY)\n",
    "ret, thr2 = cv2.threshold(img, 127, 255, cv2.THRESH_BINARY_INV)\n",
    "ret, thr3 = cv2.threshold(img, 127, 255, cv2.THRESH_TRUNC)\n",
    "ret, thr4 = cv2.threshold(img, 127, 255, cv2.THRESH_TOZERO)\n",
    "ret, thr5 = cv2.threshold(img, 127, 255, cv2.THRESH_TOZERO_INV)\n",
    "\n",
    "cv2.imshow('original', img)\n",
    "cv2.imshow('binary', thr1)\n",
    "cv2.imshow('binary_inv', thr2)\n",
    "cv2.imshow('trunc', thr3)\n",
    "cv2.imshow('tozero', thr4)\n",
    "cv2.imshow('tozero_inv', thr5)\n",
    "\n",
    "cv2.waitKey()\n",
    "cv2.destroyAllWindows()"
   ]
  },
  {
   "cell_type": "markdown",
   "metadata": {},
   "source": [
    "- adaptiveMethod: 블록 평균 계산 방법 지정. cv2.ADAPTIVE_THRESH_MEAN_C는 산술 평균, cv2.ADAPTIVE_THRESH_GAUSSIAN_C는 가우시안 가중치 평균\n",
    "- thresholdType: cv2.THRESH_BINARY 또는 cv2.THRESH_BINARY_INV 지정"
   ]
  },
  {
   "cell_type": "code",
   "execution_count": 3,
   "metadata": {},
   "outputs": [],
   "source": [
    "def thresholding():\n",
    "    img = cv2.imread('/home/kkyu/amr_ws/opencv/data/cat.bmp', cv2.IMREAD_GRAYSCALE)\n",
    "    \n",
    "    ret, thr1 = cv2.threshold(img, 127, 255, cv2.THRESH_BINARY)\n",
    "    thr2 = cv2.adaptiveThreshold(img, 255, cv2.ADAPTIVE_THRESH_MEAN_C, cv2.THRESH_BINARY, 11, 2)\n",
    "    thr3 = cv2.adaptiveThreshold(img, 255, cv2.ADAPTIVE_THRESH_GAUSSIAN_C, cv2.THRESH_BINARY, 11, 2)\n",
    "    \n",
    "    titles = ['original', 'Global Thresholing(v=127)', 'Adaptive MEAN', 'Adaptive Gaussian']\n",
    "    images = [img,thr1,thr2,thr3]\n",
    "    \n",
    "    for i in range(4):\n",
    "        cv2.imshow(titles[i], images[i])\n",
    "        \n",
    "    cv2.waitKey()\n",
    "    cv2.destroyAllWindows()\n",
    "\n",
    "thresholding()"
   ]
  }
 ],
 "metadata": {
  "kernelspec": {
   "display_name": "opencv",
   "language": "python",
   "name": "python3"
  },
  "language_info": {
   "codemirror_mode": {
    "name": "ipython",
    "version": 3
   },
   "file_extension": ".py",
   "mimetype": "text/x-python",
   "name": "python",
   "nbconvert_exporter": "python",
   "pygments_lexer": "ipython3",
   "version": "3.10.12"
  }
 },
 "nbformat": 4,
 "nbformat_minor": 2
}
