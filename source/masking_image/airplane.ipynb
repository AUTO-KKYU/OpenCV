{
 "cells": [
  {
   "cell_type": "code",
   "execution_count": 2,
   "metadata": {},
   "outputs": [],
   "source": [
    "import numpy as np \n",
    "import matplotlib.pyplot as plt \n",
    "import cv2 \n",
    "import sys \n",
    "import pandas as pd \n",
    "\n",
    "img = cv2.imread('/home/kkyu/amr_ws/opencv/data/airplane.bmp', cv2.IMREAD_GRAYSCALE)\n",
    "img = cv2.resize(img, (800,600))\n",
    "\n",
    "ret, mask = cv2.threshold(img, 128, 255, cv2.THRESH_BINARY_INV)\n",
    "kernel = np.ones((5,5), dtype = np.uint8)\n",
    "\n",
    "cv2.imshow('original', img)\n",
    "cv2.imshow('mask', mask)\n",
    "\n",
    "cv2.waitKey()\n",
    "cv2.destroyAllWindows()"
   ]
  }
 ],
 "metadata": {
  "kernelspec": {
   "display_name": "opencv",
   "language": "python",
   "name": "python3"
  },
  "language_info": {
   "codemirror_mode": {
    "name": "ipython",
    "version": 3
   },
   "file_extension": ".py",
   "mimetype": "text/x-python",
   "name": "python",
   "nbconvert_exporter": "python",
   "pygments_lexer": "ipython3",
   "version": "3.10.12"
  }
 },
 "nbformat": 4,
 "nbformat_minor": 2
}
