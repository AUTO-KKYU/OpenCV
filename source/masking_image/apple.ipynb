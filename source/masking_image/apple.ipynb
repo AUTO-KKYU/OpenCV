{
 "cells": [
  {
   "cell_type": "code",
   "execution_count": 2,
   "metadata": {},
   "outputs": [],
   "source": [
    "import numpy as np \n",
    "import matplotlib.pyplot as plt \n",
    "import cv2 \n",
    "import sys \n",
    "import pandas as pd \n",
    "\n",
    "img = cv2.imread('/home/kkyu/amr_ws/opencv/data/apple.jpg', cv2.IMREAD_GRAYSCALE)\n",
    "img = cv2.resize(img, (800,600))\n",
    "\n",
    "ret, mask = cv2.threshold(img, 246, 255, cv2.THRESH_BINARY_INV)\n",
    "kernel = np.ones((5,5), dtype = np.uint8)\n",
    "closing = cv2.morphologyEx(mask, cv2.MORPH_CLOSE, kernel)\n",
    "\n",
    "cv2.imshow('original', img)\n",
    "cv2.imshow('mask', mask)\n",
    "# 노이즈 제거\n",
    "cv2.imshow('closing', closing)\n",
    "\n",
    "cv2.waitKey()\n",
    "cv2.destroyAllWindows()"
   ]
  },
  {
   "cell_type": "code",
   "execution_count": 2,
   "metadata": {},
   "outputs": [
    {
     "data": {
      "text/plain": [
       "(3162, 2914)"
      ]
     },
     "execution_count": 2,
     "metadata": {},
     "output_type": "execute_result"
    }
   ],
   "source": [
    "img.shape"
   ]
  },
  {
   "cell_type": "code",
   "execution_count": 30,
   "metadata": {},
   "outputs": [
    {
     "name": "stdout",
     "output_type": "stream",
     "text": [
      "Select a ROI and then press SPACE or ENTER button!\n",
      "Cancel the selection process by pressing c button!\n"
     ]
    }
   ],
   "source": [
    "src = cv2.imread('/home/kkyu/amr_ws/opencv/data/apple.jpg')\n",
    "src = cv2.resize(src, (800,600))\n",
    "\n",
    "if src is None:\n",
    "    print('Image load failed!')\n",
    "    sys.exit()\n",
    "\n",
    "# ROI 선택 (관심 영역 지정)\n",
    "x, y, w, h = cv2.selectROI(src) # 옵션 중 showCrosshair = False라고 하면 이미지를 select할 때 십자가 표시 안함\n",
    "\n",
    "src_ycrcb = cv2.cvtColor(src, cv2.COLOR_BGR2YCrCb)\n",
    "crop = src_ycrcb[y:y+h, x:x+w]\n",
    "\n",
    "channels = [1, 2]  # RGB중 G와 R만 선택 \n",
    "cb_bins = 128\n",
    "cr_bins = 128\n",
    "histSize = [cr_bins, cb_bins] # 히스토그램 그래프의 x축의 간격\n",
    "cr_range = [0, 256]\n",
    "cb_range = [0, 256]\n",
    "ranges = cr_range + cb_range # 측정하고자하는 값의 범위\n",
    "\n",
    "hist = cv2.calcHist([crop], channels, None, histSize, ranges) # crop이 분석대상할 이미지 임\n",
    "\n",
    "# cv2.log -> 모든 배열 원소의 절대값에 대한 자연 로그를 계산\n",
    "# alpha = 0 , beta = 255 , norm_type = cv2.NORM_MINMAX : alpha와 beta 구간으로 정규화하는 cv2.NORM_MINMAX\n",
    "# dtype = cv2.CV_8U : 8-bit unsigned interger(0..255)\n",
    "\n",
    "hist_norm = cv2.normalize(cv2.log(hist+1), None, 0, 255, cv2.NORM_MINMAX, cv2.CV_8U)\n",
    "\n",
    "backproj = cv2.calcBackProject([src_ycrcb], channels, hist, ranges, 1)\n",
    "dst = cv2.copyTo(src, backproj)\n",
    "\n",
    "cv2.imshow('backproj', backproj)\n",
    "cv2.imshow('hist_norm', hist_norm)\n",
    "cv2.imshow('dst', dst)\n",
    "\n",
    "cv2.waitKey()\n",
    "cv2.destroyAllWindows()"
   ]
  }
 ],
 "metadata": {
  "kernelspec": {
   "display_name": "opencv",
   "language": "python",
   "name": "python3"
  },
  "language_info": {
   "codemirror_mode": {
    "name": "ipython",
    "version": 3
   },
   "file_extension": ".py",
   "mimetype": "text/x-python",
   "name": "python",
   "nbconvert_exporter": "python",
   "pygments_lexer": "ipython3",
   "version": "3.10.12"
  }
 },
 "nbformat": 4,
 "nbformat_minor": 2
}
