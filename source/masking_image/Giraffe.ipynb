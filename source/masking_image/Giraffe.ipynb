{
 "cells": [
  {
   "cell_type": "code",
   "execution_count": 26,
   "metadata": {},
   "outputs": [],
   "source": [
    "import numpy as np \n",
    "import matplotlib.pyplot as plt \n",
    "import cv2 \n",
    "import sys \n",
    "import pandas as pd \n",
    "\n",
    "img = cv2.imread('/home/kkyu/amr_ws/opencv/data/Giraffe.jpg', cv2.IMREAD_GRAYSCALE)\n",
    "img = cv2.resize(img, (800,600))\n",
    "\n",
    "ret, mask = cv2.threshold(img, 128, 255, cv2.THRESH_BINARY_INV)\n",
    "\n",
    "laplacian = cv2.Laplacian(img, ddepth = cv2.CV_64F)\n",
    "sobelx = cv2.Sobel(img, ddepth = cv2.CV_64F, dx = 1, dy = 0, ksize = 5)\n",
    "sobely = cv2.Sobel(img, ddepth = cv2.CV_64F, dx = 0, dy = 1, ksize = 5)\n",
    "blended = cv2.addWeighted(src1 = sobelx, alpha = 0.5, src2 = sobely, beta = 0.5, gamma = 0)\n",
    "\n",
    "cv2.imshow('original', img)\n",
    "cv2.imshow('mask', mask)\n",
    "cv2.imshow('Laplacian', laplacian)\n",
    "cv2.imshow('blended', blended)\n",
    "\n",
    "\n",
    "cv2.waitKey()\n",
    "cv2.destroyAllWindows()"
   ]
  }
 ],
 "metadata": {
  "kernelspec": {
   "display_name": "opencv",
   "language": "python",
   "name": "python3"
  },
  "language_info": {
   "codemirror_mode": {
    "name": "ipython",
    "version": 3
   },
   "file_extension": ".py",
   "mimetype": "text/x-python",
   "name": "python",
   "nbconvert_exporter": "python",
   "pygments_lexer": "ipython3",
   "version": "3.10.12"
  }
 },
 "nbformat": 4,
 "nbformat_minor": 2
}
